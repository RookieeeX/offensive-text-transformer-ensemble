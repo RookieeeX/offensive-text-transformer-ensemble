{
 "cells": [
  {
   "cell_type": "code",
   "execution_count": null,
   "id": "74e64d6e",
   "metadata": {},
   "outputs": [],
   "source": [
    "import pandas as pd\n",
    "import numpy as np\n",
    "import torch\n",
    "from transformers import AutoTokenizer, AutoModelForSequenceClassification\n",
    "from sklearn.metrics import classification_report, confusion_matrix, accuracy_score\n",
    "from scipy.special import softmax\n",
    "from scipy.stats import mode\n",
    "import matplotlib.pyplot as plt\n",
    "import seaborn as sns\n",
    "from tqdm import tqdm\n",
    "\n",
    "device = torch.device('cuda' if torch.cuda.is_available() else 'cpu')\n",
    "\n",
    "df = pd.read_csv('Potato-Prolific-Dataset-main/dataset/offensiveness/raw_data.csv')\n",
    "df = df[df['race'] == 'White'][['text', 'offensiveness']].copy()\n",
    "df = df.dropna(subset=['text','offensiveness'])\n",
    "df['offensiveness'] = df['offensiveness'].astype(int)\n",
    "df['labels'] = (df['offensiveness'] > 1).astype(int)\n",
    "\n",
    "from sklearn.model_selection import train_test_split\n",
    "train_val_df, test_df = train_test_split(\n",
    "    df, test_size=0.2, stratify=df['labels'], random_state=42\n",
    ")\n",
    "test_texts = test_df['text'].tolist()\n",
    "test_labels = test_df['labels'].values\n"
   ]
  },
  {
   "cell_type": "code",
   "execution_count": null,
   "id": "57ee8666",
   "metadata": {},
   "outputs": [],
   "source": [
    "ensemble_models = [\n",
    "    # RoBERTa 5\n",
    "    ('roberta1', 'roberta-base', 'models/roberta_binary_seed42.bin'),\n",
    "    ('roberta2', 'roberta-base', 'models/roberta_binary_seed128.bin'),\n",
    "    ('roberta3', 'roberta-base', 'models/roberta_binary_seed256.bin'),\n",
    "    ('roberta4', 'roberta-base', 'models/roberta_binary_seed512.bin'),\n",
    "    ('roberta5', 'roberta-base', 'models/roberta_binary_seed2025.bin'),\n",
    "    # BERT 5\n",
    "    ('bert1', 'bert-base-uncased', 'models/bert_seed42.bin'),\n",
    "    ('bert2', 'bert-base-uncased', 'models/bert_seed128.bin'),\n",
    "    ('bert3', 'bert-base-uncased', 'models/bert_seed256.bin'),\n",
    "    ('bert4', 'bert-base-uncased', 'models/bert_seed1024.bin'),\n",
    "    ('bert5', 'bert-base-uncased', 'models/bert_seed2025.bin'),\n",
    "]\n",
    "NUM_LABELS = 2\n",
    "MAX_LENGTH = 128\n",
    "BATCH_SIZE = 16\n"
   ]
  },
  {
   "cell_type": "code",
   "execution_count": null,
   "id": "97423bfe",
   "metadata": {},
   "outputs": [
    {
     "name": "stdout",
     "output_type": "stream",
     "text": [
      "Predicting with roberta1 (roberta-base) ...\n"
     ]
    },
    {
     "name": "stderr",
     "output_type": "stream",
     "text": [
      "Some weights of RobertaForSequenceClassification were not initialized from the model checkpoint at roberta-base and are newly initialized: ['classifier.dense.bias', 'classifier.dense.weight', 'classifier.out_proj.bias', 'classifier.out_proj.weight']\n",
      "You should probably TRAIN this model on a down-stream task to be able to use it for predictions and inference.\n",
      "C:\\Users\\34800\\AppData\\Local\\Temp\\ipykernel_15428\\3784427017.py:8: FutureWarning: You are using `torch.load` with `weights_only=False` (the current default value), which uses the default pickle module implicitly. It is possible to construct malicious pickle data which will execute arbitrary code during unpickling (See https://github.com/pytorch/pytorch/blob/main/SECURITY.md#untrusted-models for more details). In a future release, the default value for `weights_only` will be flipped to `True`. This limits the functions that could be executed during unpickling. Arbitrary objects will no longer be allowed to be loaded via this mode unless they are explicitly allowlisted by the user via `torch.serialization.add_safe_globals`. We recommend you start setting `weights_only=True` for any use case where you don't have full control of the loaded file. Please open an issue on GitHub for any issues related to this experimental feature.\n",
      "  checkpoint = torch.load(ckpt, map_location=device)\n",
      "  0%|          | 0/123 [00:00<?, ?it/s]C:\\Users\\34800\\AppData\\Local\\Temp\\ipykernel_15428\\3784427017.py:29: FutureWarning: `torch.cuda.amp.autocast(args...)` is deprecated. Please use `torch.amp.autocast('cuda', args...)` instead.\n",
      "  with torch.cuda.amp.autocast(enabled=False):\n",
      "d:\\anaconda3\\envs\\py38\\lib\\site-packages\\transformers\\models\\roberta\\modeling_roberta.py:370: UserWarning: 1Torch was not compiled with flash attention. (Triggered internally at C:\\actions-runner\\_work\\pytorch\\pytorch\\builder\\windows\\pytorch\\aten\\src\\ATen\\native\\transformers\\cuda\\sdp_utils.cpp:555.)\n",
      "  attn_output = torch.nn.functional.scaled_dot_product_attention(\n",
      "100%|██████████| 123/123 [00:14<00:00,  8.21it/s]\n"
     ]
    },
    {
     "name": "stdout",
     "output_type": "stream",
     "text": [
      "Predicting with roberta2 (roberta-base) ...\n"
     ]
    },
    {
     "name": "stderr",
     "output_type": "stream",
     "text": [
      "Some weights of RobertaForSequenceClassification were not initialized from the model checkpoint at roberta-base and are newly initialized: ['classifier.dense.bias', 'classifier.dense.weight', 'classifier.out_proj.bias', 'classifier.out_proj.weight']\n",
      "You should probably TRAIN this model on a down-stream task to be able to use it for predictions and inference.\n",
      "100%|██████████| 123/123 [00:14<00:00,  8.29it/s]\n"
     ]
    },
    {
     "name": "stdout",
     "output_type": "stream",
     "text": [
      "Predicting with roberta3 (roberta-base) ...\n"
     ]
    },
    {
     "name": "stderr",
     "output_type": "stream",
     "text": [
      "Some weights of RobertaForSequenceClassification were not initialized from the model checkpoint at roberta-base and are newly initialized: ['classifier.dense.bias', 'classifier.dense.weight', 'classifier.out_proj.bias', 'classifier.out_proj.weight']\n",
      "You should probably TRAIN this model on a down-stream task to be able to use it for predictions and inference.\n",
      "100%|██████████| 123/123 [00:15<00:00,  7.84it/s]\n"
     ]
    },
    {
     "name": "stdout",
     "output_type": "stream",
     "text": [
      "Predicting with roberta4 (roberta-base) ...\n"
     ]
    },
    {
     "name": "stderr",
     "output_type": "stream",
     "text": [
      "Some weights of RobertaForSequenceClassification were not initialized from the model checkpoint at roberta-base and are newly initialized: ['classifier.dense.bias', 'classifier.dense.weight', 'classifier.out_proj.bias', 'classifier.out_proj.weight']\n",
      "You should probably TRAIN this model on a down-stream task to be able to use it for predictions and inference.\n",
      "100%|██████████| 123/123 [00:21<00:00,  5.81it/s]\n"
     ]
    },
    {
     "name": "stdout",
     "output_type": "stream",
     "text": [
      "Predicting with roberta5 (roberta-base) ...\n"
     ]
    },
    {
     "name": "stderr",
     "output_type": "stream",
     "text": [
      "Some weights of RobertaForSequenceClassification were not initialized from the model checkpoint at roberta-base and are newly initialized: ['classifier.dense.bias', 'classifier.dense.weight', 'classifier.out_proj.bias', 'classifier.out_proj.weight']\n",
      "You should probably TRAIN this model on a down-stream task to be able to use it for predictions and inference.\n",
      "100%|██████████| 123/123 [00:17<00:00,  6.87it/s]\n"
     ]
    },
    {
     "name": "stdout",
     "output_type": "stream",
     "text": [
      "Predicting with bert1 (bert-base-uncased) ...\n"
     ]
    },
    {
     "name": "stderr",
     "output_type": "stream",
     "text": [
      "Some weights of BertForSequenceClassification were not initialized from the model checkpoint at bert-base-uncased and are newly initialized: ['classifier.bias', 'classifier.weight']\n",
      "You should probably TRAIN this model on a down-stream task to be able to use it for predictions and inference.\n",
      "100%|██████████| 123/123 [00:17<00:00,  7.05it/s]\n"
     ]
    },
    {
     "name": "stdout",
     "output_type": "stream",
     "text": [
      "Predicting with bert2 (bert-base-uncased) ...\n"
     ]
    },
    {
     "name": "stderr",
     "output_type": "stream",
     "text": [
      "Some weights of BertForSequenceClassification were not initialized from the model checkpoint at bert-base-uncased and are newly initialized: ['classifier.bias', 'classifier.weight']\n",
      "You should probably TRAIN this model on a down-stream task to be able to use it for predictions and inference.\n",
      "100%|██████████| 123/123 [00:17<00:00,  6.95it/s]\n"
     ]
    },
    {
     "name": "stdout",
     "output_type": "stream",
     "text": [
      "Predicting with bert3 (bert-base-uncased) ...\n"
     ]
    },
    {
     "name": "stderr",
     "output_type": "stream",
     "text": [
      "Some weights of BertForSequenceClassification were not initialized from the model checkpoint at bert-base-uncased and are newly initialized: ['classifier.bias', 'classifier.weight']\n",
      "You should probably TRAIN this model on a down-stream task to be able to use it for predictions and inference.\n",
      "100%|██████████| 123/123 [00:17<00:00,  6.98it/s]\n"
     ]
    },
    {
     "name": "stdout",
     "output_type": "stream",
     "text": [
      "Predicting with bert4 (bert-base-uncased) ...\n"
     ]
    },
    {
     "name": "stderr",
     "output_type": "stream",
     "text": [
      "Some weights of BertForSequenceClassification were not initialized from the model checkpoint at bert-base-uncased and are newly initialized: ['classifier.bias', 'classifier.weight']\n",
      "You should probably TRAIN this model on a down-stream task to be able to use it for predictions and inference.\n",
      "100%|██████████| 123/123 [00:20<00:00,  6.09it/s]\n"
     ]
    },
    {
     "name": "stdout",
     "output_type": "stream",
     "text": [
      "Predicting with bert5 (bert-base-uncased) ...\n"
     ]
    },
    {
     "name": "stderr",
     "output_type": "stream",
     "text": [
      "Some weights of BertForSequenceClassification were not initialized from the model checkpoint at bert-base-uncased and are newly initialized: ['classifier.bias', 'classifier.weight']\n",
      "You should probably TRAIN this model on a down-stream task to be able to use it for predictions and inference.\n",
      "100%|██████████| 123/123 [00:21<00:00,  5.74it/s]"
     ]
    },
    {
     "name": "stdout",
     "output_type": "stream",
     "text": [
      "All models predicted.\n"
     ]
    },
    {
     "name": "stderr",
     "output_type": "stream",
     "text": [
      "\n"
     ]
    }
   ],
   "source": [
    "all_logits = []  \n",
    "model_names = [] \n",
    "\n",
    "for (model_id, pretrained, ckpt) in ensemble_models:\n",
    "    print(f\"Predicting with {model_id} ({pretrained}) ...\")\n",
    "    tokenizer = AutoTokenizer.from_pretrained(pretrained)\n",
    "    model = AutoModelForSequenceClassification.from_pretrained(pretrained, num_labels=NUM_LABELS)\n",
    "    checkpoint = torch.load(ckpt, map_location=device)\n",
    "    if \"model_state_dict\" in checkpoint:\n",
    "        model.load_state_dict(checkpoint['model_state_dict'])\n",
    "    else:\n",
    "        model.load_state_dict(checkpoint)\n",
    "    model.eval()\n",
    "    model.to(device)\n",
    "\n",
    "    logits_list = []\n",
    "    with torch.no_grad():\n",
    "        for i in tqdm(range(0, len(test_texts), BATCH_SIZE)):\n",
    "            batch_text = test_texts[i:i+BATCH_SIZE]\n",
    "            encoded = tokenizer(\n",
    "                batch_text,\n",
    "                padding='max_length',\n",
    "                truncation=True,\n",
    "                max_length=MAX_LENGTH,\n",
    "                return_tensors='pt'\n",
    "            )\n",
    "            for k in encoded:\n",
    "                encoded[k] = encoded[k].to(device)\n",
    "            with torch.cuda.amp.autocast(enabled=False):\n",
    "                out = model(**encoded)\n",
    "                batch_logits = out.logits.cpu().numpy()\n",
    "            logits_list.append(batch_logits)\n",
    "    model_preds = np.concatenate(logits_list, axis=0)\n",
    "    all_logits.append(model_preds)\n",
    "    model_names.append(model_id)\n",
    "    del model; torch.cuda.empty_cache()\n",
    "print(\"All models predicted.\")\n"
   ]
  },
  {
   "cell_type": "code",
   "execution_count": null,
   "id": "a9c9405b",
   "metadata": {},
   "outputs": [
    {
     "name": "stdout",
     "output_type": "stream",
     "text": [
      "\n",
      "=== Single Model roberta1 ===\n",
      "\n",
      "              precision    recall  f1-score   support\n",
      "\n",
      "           0     0.7517    0.6702    0.7086      1134\n",
      "           1     0.6063    0.6965    0.6483       827\n",
      "\n",
      "    accuracy                         0.6813      1961\n",
      "   macro avg     0.6790    0.6833    0.6785      1961\n",
      "weighted avg     0.6904    0.6813    0.6832      1961\n",
      "\n",
      "\n",
      "=== Single Model roberta2 ===\n",
      "\n",
      "              precision    recall  f1-score   support\n",
      "\n",
      "           0     0.7705    0.7284    0.7489      1134\n",
      "           1     0.6535    0.7025    0.6772       827\n",
      "\n",
      "    accuracy                         0.7175      1961\n",
      "   macro avg     0.7120    0.7155    0.7130      1961\n",
      "weighted avg     0.7212    0.7175    0.7186      1961\n",
      "\n",
      "\n",
      "=== Single Model roberta3 ===\n",
      "\n",
      "              precision    recall  f1-score   support\n",
      "\n",
      "           0     0.7624    0.7302    0.7459      1134\n",
      "           1     0.6503    0.6880    0.6686       827\n",
      "\n",
      "    accuracy                         0.7124      1961\n",
      "   macro avg     0.7064    0.7091    0.7073      1961\n",
      "weighted avg     0.7151    0.7124    0.7133      1961\n",
      "\n",
      "\n",
      "=== Single Model roberta4 ===\n",
      "\n",
      "              precision    recall  f1-score   support\n",
      "\n",
      "           0     0.7537    0.7584    0.7560      1134\n",
      "           1     0.6659    0.6602    0.6630       827\n",
      "\n",
      "    accuracy                         0.7170      1961\n",
      "   macro avg     0.7098    0.7093    0.7095      1961\n",
      "weighted avg     0.7167    0.7170    0.7168      1961\n",
      "\n",
      "\n",
      "=== Single Model roberta5 ===\n",
      "\n",
      "              precision    recall  f1-score   support\n",
      "\n",
      "           0     0.7527    0.7249    0.7385      1134\n",
      "           1     0.6410    0.6735    0.6568       827\n",
      "\n",
      "    accuracy                         0.7032      1961\n",
      "   macro avg     0.6969    0.6992    0.6977      1961\n",
      "weighted avg     0.7056    0.7032    0.7041      1961\n",
      "\n",
      "\n",
      "=== Single Model bert1 ===\n",
      "\n",
      "              precision    recall  f1-score   support\n",
      "\n",
      "           0     0.7510    0.6781    0.7127      1134\n",
      "           1     0.6105    0.6917    0.6485       827\n",
      "\n",
      "    accuracy                         0.6838      1961\n",
      "   macro avg     0.6807    0.6849    0.6806      1961\n",
      "weighted avg     0.6917    0.6838    0.6856      1961\n",
      "\n",
      "\n",
      "=== Single Model bert2 ===\n",
      "\n",
      "              precision    recall  f1-score   support\n",
      "\n",
      "           0     0.7782    0.6808    0.7262      1134\n",
      "           1     0.6264    0.7340    0.6759       827\n",
      "\n",
      "    accuracy                         0.7032      1961\n",
      "   macro avg     0.7023    0.7074    0.7011      1961\n",
      "weighted avg     0.7142    0.7032    0.7050      1961\n",
      "\n",
      "\n",
      "=== Single Model bert3 ===\n",
      "\n",
      "              precision    recall  f1-score   support\n",
      "\n",
      "           0     0.7779    0.7504    0.7639      1134\n",
      "           1     0.6736    0.7062    0.6895       827\n",
      "\n",
      "    accuracy                         0.7318      1961\n",
      "   macro avg     0.7257    0.7283    0.7267      1961\n",
      "weighted avg     0.7339    0.7318    0.7325      1961\n",
      "\n",
      "\n",
      "=== Single Model bert4 ===\n",
      "\n",
      "              precision    recall  f1-score   support\n",
      "\n",
      "           0     0.7619    0.7734    0.7676      1134\n",
      "           1     0.6827    0.6687    0.6756       827\n",
      "\n",
      "    accuracy                         0.7292      1961\n",
      "   macro avg     0.7223    0.7210    0.7216      1961\n",
      "weighted avg     0.7285    0.7292    0.7288      1961\n",
      "\n",
      "\n",
      "=== Single Model bert5 ===\n",
      "\n",
      "              precision    recall  f1-score   support\n",
      "\n",
      "           0     0.7845    0.6675    0.7213      1134\n",
      "           1     0.6215    0.7485    0.6791       827\n",
      "\n",
      "    accuracy                         0.7017      1961\n",
      "   macro avg     0.7030    0.7080    0.7002      1961\n",
      "weighted avg     0.7157    0.7017    0.7035      1961\n",
      "\n",
      "\n",
      "=== All RoBERTa (soft vote ensemble) ===\n",
      "\n",
      "              precision    recall  f1-score   support\n",
      "\n",
      "           0     0.7667    0.7302    0.7480      1134\n",
      "           1     0.6527    0.6953    0.6733       827\n",
      "\n",
      "    accuracy                         0.7155      1961\n",
      "   macro avg     0.7097    0.7127    0.7106      1961\n",
      "weighted avg     0.7186    0.7155    0.7165      1961\n",
      "\n",
      "\n",
      "=== All BERT (soft vote ensemble) ===\n",
      "\n",
      "              precision    recall  f1-score   support\n",
      "\n",
      "           0     0.7792    0.7187    0.7477      1134\n",
      "           1     0.6514    0.7207    0.6843       827\n",
      "\n",
      "    accuracy                         0.7195      1961\n",
      "   macro avg     0.7153    0.7197    0.7160      1961\n",
      "weighted avg     0.7253    0.7195    0.7210      1961\n",
      "\n",
      "\n",
      "=== ALL models Soft Voting ===\n",
      "\n",
      "              precision    recall  f1-score   support\n",
      "\n",
      "           0     0.7780    0.7231    0.7495      1134\n",
      "           1     0.6538    0.7170    0.6840       827\n",
      "\n",
      "    accuracy                         0.7206      1961\n",
      "   macro avg     0.7159    0.7201    0.7168      1961\n",
      "weighted avg     0.7256    0.7206    0.7219      1961\n",
      "\n",
      "\n",
      "=== ALL models Hard Voting ===\n",
      "\n",
      "              precision    recall  f1-score   support\n",
      "\n",
      "           0     0.7656    0.7346    0.7498      1134\n",
      "           1     0.6552    0.6917    0.6729       827\n",
      "\n",
      "    accuracy                         0.7165      1961\n",
      "   macro avg     0.7104    0.7131    0.7114      1961\n",
      "weighted avg     0.7191    0.7165    0.7174      1961\n",
      "\n"
     ]
    },
    {
     "name": "stderr",
     "output_type": "stream",
     "text": [
      "C:\\Users\\34800\\AppData\\Local\\Temp\\ipykernel_15428\\1033153860.py:35: FutureWarning: Unlike other reduction functions (e.g. `skew`, `kurtosis`), the default behavior of `mode` typically preserves the axis it acts along. In SciPy 1.11.0, this behavior will change: the default value of `keepdims` will become False, the `axis` over which the statistic is taken will be eliminated, and the value None will no longer be accepted. Set `keepdims` to True or False to avoid this warning.\n",
      "  hard_preds = mode(hard_mat, axis=0).mode.squeeze()\n"
     ]
    }
   ],
   "source": [
    "for i, name in enumerate(model_names):\n",
    "    pred = all_logits[i].argmax(axis=1)\n",
    "    print(f\"\\n=== Single Model {name} ===\\n\")\n",
    "    print(classification_report(test_labels, pred, digits=4))\n",
    "\n",
    "roberta_idx = [i for i,name in enumerate(model_names) if name.startswith('roberta')]\n",
    "if roberta_idx:\n",
    "    probs_roberta = [softmax(all_logits[i], axis=1) for i in roberta_idx]\n",
    "    roberta_avgp = np.mean(probs_roberta,axis=0)\n",
    "    r_pred = np.argmax(roberta_avgp, axis=1)\n",
    "    print(\"\\n=== All RoBERTa (soft vote ensemble) ===\\n\")\n",
    "    print(classification_report(test_labels, r_pred, digits=4))\n",
    "\n",
    "bert_idx = [i for i,name in enumerate(model_names) if name.startswith('bert')]\n",
    "if bert_idx:\n",
    "    probs_bert = [softmax(all_logits[i], axis=1) for i in bert_idx]\n",
    "    bert_avgp = np.mean(probs_bert,axis=0)\n",
    "    b_pred = np.argmax(bert_avgp, axis=1)\n",
    "    print(\"\\n=== All BERT (soft vote ensemble) ===\\n\")\n",
    "    print(classification_report(test_labels, b_pred, digits=4))\n",
    "\n",
    "probs_list = [softmax(x, axis=1) for x in all_logits]\n",
    "avg_probs = np.mean(probs_list, axis=0)\n",
    "soft_preds = np.argmax(avg_probs, axis=1)\n",
    "print(\"\\n=== ALL models Soft Voting ===\\n\")\n",
    "print(classification_report(test_labels, soft_preds, digits=4))\n",
    "\n",
    "hard_preds_list = [np.argmax(x, axis=1) for x in all_logits]\n",
    "hard_mat = np.stack(hard_preds_list, axis=0)\n",
    "hard_preds = mode(hard_mat, axis=0).mode.squeeze()\n",
    "print(\"\\n=== ALL models Hard Voting ===\\n\")\n",
    "print(classification_report(test_labels, hard_preds, digits=4))\n"
   ]
  },
  {
   "cell_type": "code",
   "execution_count": 5,
   "id": "672cb8a3",
   "metadata": {},
   "outputs": [
    {
     "data": {
      "image/png": "[encoded data removed]",
      "text/plain": [
       "<Figure size 500x400 with 2 Axes>"
      ]
     },
     "metadata": {},
     "output_type": "display_data"
    },
    {
     "data": {
      "image/png": "[encoded data removed]",
      "text/plain": [
       "<Figure size 500x400 with 2 Axes>"
      ]
     },
     "metadata": {},
     "output_type": "display_data"
    }
   ],
   "source": [
    "def plot_conf_matrix(y_true, y_pred, class_names, title=\"Confusion Matrix\"):\n",
    "    cm = confusion_matrix(y_true, y_pred)\n",
    "    plt.figure(figsize=(5,4))\n",
    "    sns.heatmap(cm, annot=True, fmt='d', cmap=\"Blues\",\n",
    "                xticklabels=class_names, yticklabels=class_names)\n",
    "    plt.xlabel(\"Predicted\")\n",
    "    plt.ylabel(\"True\")\n",
    "    plt.title(title)\n",
    "    plt.show()\n",
    "\n",
    "plot_conf_matrix(test_labels, soft_preds, class_names=[\"Non-offensive\", \"Offensive\"], title=\"Soft Voting Confusion\")\n",
    "plot_conf_matrix(test_labels, hard_preds, class_names=[\"Non-offensive\", \"Offensive\"], title=\"Hard Voting Confusion\")\n"
   ]
  }
 ],
 "metadata": {
  "kernelspec": {
   "display_name": "py38",
   "language": "python",
   "name": "python3"
  },
  "language_info": {
   "codemirror_mode": {
    "name": "ipython",
    "version": 3
   },
   "file_extension": ".py",
   "mimetype": "text/x-python",
   "name": "python",
   "nbconvert_exporter": "python",
   "pygments_lexer": "ipython3",
   "version": "3.8.18"
  }
 },
 "nbformat": 4,
 "nbformat_minor": 5
}
